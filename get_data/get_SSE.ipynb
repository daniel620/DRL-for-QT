{
 "cells": [
  {
   "cell_type": "code",
   "execution_count": 1,
   "metadata": {},
   "outputs": [],
   "source": [
    "# 使用tushare 下载数据\n",
    "\n",
    "import tushare as ts\n",
    "import pandas as pd\n",
    "import numpy as np\n",
    "import matplotlib.pyplot as plt\n",
    "import seaborn as sns\n",
    "import datetime\n",
    "\n",
    "# 设置token\n",
    "ts.set_token('4167d168dd2c182108319b0f5fc93d66b21d5ccf2baa2af2a522b80d')\n",
    "pro = ts.pro_api()\n",
    "\n"
   ]
  },
  {
   "cell_type": "code",
   "execution_count": null,
   "metadata": {},
   "outputs": [],
   "source": [
    "# SSE 上证指数\n",
    "df = pro.index_daily(ts_code='000001.SH', start_date='20100101', end_date='20200101')\n",
    "df = df.sort_values(by='trade_date', ascending=True)\n",
    "df = df.reset_index(drop=True)\n",
    "df.to_csv('../data/SSE.csv', index=False)\n"
   ]
  },
  {
   "cell_type": "code",
   "execution_count": 2,
   "metadata": {},
   "outputs": [],
   "source": [
    "# 测试数据\n",
    "df = pro.index_daily(ts_code='000001.SH', start_date='20200101', end_date='20230101')\n",
    "df = df.sort_values(by='trade_date', ascending=True)\n",
    "df = df.reset_index(drop=True)\n",
    "df.to_csv('../data/SSE_test.csv', index=False)"
   ]
  },
  {
   "cell_type": "code",
   "execution_count": null,
   "metadata": {},
   "outputs": [],
   "source": []
  }
 ],
 "metadata": {
  "kernelspec": {
   "display_name": "py38",
   "language": "python",
   "name": "python3"
  },
  "language_info": {
   "codemirror_mode": {
    "name": "ipython",
    "version": 3
   },
   "file_extension": ".py",
   "mimetype": "text/x-python",
   "name": "python",
   "nbconvert_exporter": "python",
   "pygments_lexer": "ipython3",
   "version": "3.8.16"
  },
  "orig_nbformat": 4,
  "vscode": {
   "interpreter": {
    "hash": "7490b5f3e1c0831aef3af65cb65e4f3862964ceffe19deb972007b55eca60335"
   }
  }
 },
 "nbformat": 4,
 "nbformat_minor": 2
}
