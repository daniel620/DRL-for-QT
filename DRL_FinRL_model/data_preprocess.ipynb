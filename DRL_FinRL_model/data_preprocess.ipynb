{
 "cells": [
  {
   "cell_type": "code",
   "execution_count": 1,
   "metadata": {},
   "outputs": [],
   "source": [
    "# convert SSE data files to format: date\topen\thigh\tlow\tclose\tvolume\ttic\tday\n",
    "import pandas as pd\n",
    "\n",
    "df = pd.read_csv('../data/train/SSE.csv')\n",
    "df_test = pd.read_csv('../data/test/SSE_test.csv')\n",
    "\n",
    "# concat\n",
    "df = pd.concat([df, df_test], axis=0)\n",
    "\n",
    "# date\n",
    "df['trade_date'] = pd.to_datetime(df['trade_date'], format='%Y%m%d')\n",
    "# rename\n",
    "df = df.rename(columns={'trade_date':'date', 'ts_code':'tic', 'vol':'volume'})\n",
    "\n",
    "# cal week day\n",
    "df['day'] = df['date'].dt.dayofweek\n",
    "\n",
    "# drop\n",
    "df = df.drop(columns=['pre_close', 'change', 'pct_chg', 'amount'])\n",
    "\n",
    "# save\n",
    "df.to_csv('datasets/SSE.csv', index=False)"
   ]
  },
  {
   "cell_type": "code",
   "execution_count": null,
   "metadata": {},
   "outputs": [],
   "source": []
  }
 ],
 "metadata": {
  "kernelspec": {
   "display_name": "py38",
   "language": "python",
   "name": "python3"
  },
  "language_info": {
   "codemirror_mode": {
    "name": "ipython",
    "version": 3
   },
   "file_extension": ".py",
   "mimetype": "text/x-python",
   "name": "python",
   "nbconvert_exporter": "python",
   "pygments_lexer": "ipython3",
   "version": "3.8.16"
  },
  "orig_nbformat": 4
 },
 "nbformat": 4,
 "nbformat_minor": 2
}
